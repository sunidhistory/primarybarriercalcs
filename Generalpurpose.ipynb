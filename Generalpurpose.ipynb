{
 "cells": [
  {
   "cell_type": "code",
   "execution_count": 2,
   "id": "db5fff3d-c24e-45af-80cc-c3a9a90ae16d",
   "metadata": {},
   "outputs": [
    {
     "name": "stdin",
     "output_type": "stream",
     "text": [
      "Enter the number of patients:  30\n",
      "Enter the number of treatment days/week:  5\n",
      "Enter the value:  3\n",
      "Enter the unit (Gy or mR):  Gy\n"
     ]
    },
    {
     "name": "stdout",
     "output_type": "stream",
     "text": [
      "The value is 3.0 Gy.\n",
      "The workload for the linac is 450.0 Gy/wk\n"
     ]
    }
   ],
   "source": [
    "#This is a general pupose python program for shielding calculation of radiotherapy facility\n",
    "#on every step of this program input values from NCRP 151 report are given,the user can choose the desired value as per their layout.\n",
    "#with the 2nd part of this general program an example of radiation facility is added, with some particular values,\n",
    "#demo of this program is given to find out wall thickness of an imaginary facility\n",
    "\n",
    "import math\n",
    "\n",
    "\n",
    "n = float(input(\"Enter the number of patients: \"))\n",
    "d= float(input(\"Enter the number of treatment days/week: \"))\n",
    "\n",
    "\n",
    "\n",
    "def dose():\n",
    "    # Prompt the user for input value and unit\n",
    "    value = float(input(\"Enter the value: \")) \n",
    "    unit = input(\"Enter the unit (Gy or mR): \").strip() \n",
    "\n",
    "    if unit == \"Gy\":\n",
    "        # Value is already in Gray\n",
    "        print(f\"The value is {value} Gy.\")\n",
    "        w=n*d*value\n",
    "        print(f\"The workload for the linac is {w} Gy/wk\")\n",
    "    elif unit == \"mR\":\n",
    "        # Conversion logic: 1 mR = 8.77 x 10^-6 Gy\n",
    "        converted_value = value * 0.00877 / 1000\n",
    "        print(f\"{value} mR is equivalent to {converted_value:.6f} Gy.\")\n",
    "        w=n*d*converted_value\n",
    "        print(f\"The workload for the linac is {w} Gy/wk\")\n",
    "        print\n",
    "    else:\n",
    "        print(\"Invalid unit entered. Please use 'Gy' or 'mR'.\")\n",
    "        \n",
    "dose()"
   ]
  },
  {
   "cell_type": "code",
   "execution_count": 3,
   "id": "ff1dea63-4f74-4101-8120-48d62cf492c2",
   "metadata": {},
   "outputs": [
    {
     "name": "stdout",
     "output_type": "stream",
     "text": [
      "\n",
      "Occupancy Factor (T):\n",
      "------------------------------------------------------------------\n",
      "| Location                                                            | Factor (T) |\n",
      "------------------------------------------------------------------\n",
      "| Full occupancy areas (e.g., administrative offices,                |     1      |\n",
      "| treatment planning areas, treatment control rooms, nurse           |            |\n",
      "| stations, attended waiting rooms, occupied space in nearby         |            |\n",
      "| building)                                                          |            |\n",
      "|--------------------------------------------------------------------|------------|\n",
      "| Adjacent treatment room, patient examination room adjacent         |     1/2    |\n",
      "| to shielded vault                                                  |            |\n",
      "|--------------------------------------------------------------------|------------|\n",
      "| Corridors, employee lounges, staff rest rooms                      |     1/5    |\n",
      "|--------------------------------------------------------------------|------------|\n",
      "| Treatment vault doors                                              |     1/8    |\n",
      "|--------------------------------------------------------------------|------------|\n",
      "| Public toilets, unattended vending rooms, storage areas,           |     1/20   |\n",
      "| outdoor areas with seating, unattended waiting rooms, patient      |            |\n",
      "| holding areas, attics, janitors’ closets                           |            |\n",
      "|--------------------------------------------------------------------|------------|\n",
      "| Outdoor areas with transient pedestrian or vehicular traffic,      |     1/40   |\n",
      "| unattended parking lots, vehicular drop-off areas, stairways,      |            |\n",
      "| unattended elevators                                               |            |\n",
      "------------------------------------------------------------------\n",
      "\n",
      "Use Factor (U) for primary barrier:\n",
      "-------------------------------\n",
      "| Gantry angle | Factor (U) |\n",
      "|--------------------------|------------|\n",
      "| 0,90,270,180 degree             | 0.25       |\n",
      "-------------------------------\n",
      "\n",
      "Permissible limits:\n",
      "-----------------------------------------------------------------------------------\n",
      "| Category              | Details                                                |\n",
      "-----------------------------------------------------------------------------------\n",
      "| Controlled Areas      |                                                       |\n",
      "|                       | E ≤ 50 mSv/year, cumulative E ≤ 10 mSv × age (in yrs) |\n",
      "|                       | Declared pregnant worker: 0.5 mSv/month ≈ 5 mSv/year  |\n",
      "|                       | Minors (occupational workers): 10% of adult limit     |\n",
      "|                       | → Limit based on 5 mSv/year = 0.1 mSv/week            |\n",
      "|                       | ALARA (As Low As Reasonably Achievable)               |\n",
      "|                       | Special considerations for pregnant workers and minors|\n",
      "-----------------------------------------------------------------------------------\n",
      "| Uncontrolled Areas    |                                                       |\n",
      "|                       | E < 1 mSv/year = 0.02 mSv/week                        |\n",
      "-----------------------------------------------------------------------------------\n"
     ]
    }
   ],
   "source": [
    "#this section just gives important tables as output\n",
    "        print(\"\\nOccupancy Factor (T):\")\n",
    "        print(\"------------------------------------------------------------------\")\n",
    "        print(\"| Location                                                            | Factor (T) |\")\n",
    "        print(\"------------------------------------------------------------------\")\n",
    "        print(\"| Full occupancy areas (e.g., administrative offices,                |     1      |\")\n",
    "        print(\"| treatment planning areas, treatment control rooms, nurse           |            |\")\n",
    "        print(\"| stations, attended waiting rooms, occupied space in nearby         |            |\")\n",
    "        print(\"| building)                                                          |            |\")\n",
    "        print(\"|--------------------------------------------------------------------|------------|\")\n",
    "        print(\"| Adjacent treatment room, patient examination room adjacent         |     1/2    |\")\n",
    "        print(\"| to shielded vault                                                  |            |\")\n",
    "        print(\"|--------------------------------------------------------------------|------------|\")\n",
    "        print(\"| Corridors, employee lounges, staff rest rooms                      |     1/5    |\")\n",
    "        print(\"|--------------------------------------------------------------------|------------|\")\n",
    "        print(\"| Treatment vault doors                                              |     1/8    |\")\n",
    "        print(\"|--------------------------------------------------------------------|------------|\")\n",
    "        print(\"| Public toilets, unattended vending rooms, storage areas,           |     1/20   |\")\n",
    "        print(\"| outdoor areas with seating, unattended waiting rooms, patient      |            |\")\n",
    "        print(\"| holding areas, attics, janitors’ closets                           |            |\")\n",
    "        print(\"|--------------------------------------------------------------------|------------|\")\n",
    "        print(\"| Outdoor areas with transient pedestrian or vehicular traffic,      |     1/40   |\")\n",
    "        print(\"| unattended parking lots, vehicular drop-off areas, stairways,      |            |\")\n",
    "        print(\"| unattended elevators                                               |            |\")\n",
    "        print(\"------------------------------------------------------------------\")\n",
    "\n",
    "\n",
    "\n",
    "\n",
    "     \n",
    "        print(\"\\nUse Factor (U) for primary barrier:\")\n",
    "        print(\"-------------------------------\")\n",
    "        print(\"| Gantry angle | Factor (U) |\")\n",
    "        print(\"|--------------------------|------------|\")\n",
    "        print(\"| 0,90,270,180 degree             | 0.25       |\")\n",
    "        print(\"-------------------------------\")\n",
    "\n",
    "        \n",
    "        \n",
    "        \n",
    "        print(\"\\nPermissible limits:\")\n",
    "        print(\"-----------------------------------------------------------------------------------\")\n",
    "        print(\"| Category              | Details                                                |\")\n",
    "        print(\"-----------------------------------------------------------------------------------\")\n",
    "        print(\"| Controlled Areas      |                                                       |\")\n",
    "        print(\"|                       | E ≤ 50 mSv/year, cumulative E ≤ 10 mSv × age (in yrs) |\")\n",
    "        print(\"|                       | Declared pregnant worker: 0.5 mSv/month ≈ 5 mSv/year  |\")\n",
    "        print(\"|                       | Minors (occupational workers): 10% of adult limit     |\")\n",
    "        print(\"|                       | → Limit based on 5 mSv/year = 0.1 mSv/week            |\")\n",
    "        print(\"|                       | ALARA (As Low As Reasonably Achievable)               |\")\n",
    "        print(\"|                       | Special considerations for pregnant workers and minors|\")\n",
    "        print(\"-----------------------------------------------------------------------------------\")\n",
    "        print(\"| Uncontrolled Areas    |                                                       |\")\n",
    "        print(\"|                       | E < 1 mSv/year = 0.02 mSv/week                        |\")\n",
    "        print(\"-----------------------------------------------------------------------------------\")\n",
    "\n",
    "\n"
   ]
  },
  {
   "cell_type": "code",
   "execution_count": 8,
   "id": "e722698b-72a8-4972-b34e-3bb36ae993ed",
   "metadata": {},
   "outputs": [
    {
     "name": "stdin",
     "output_type": "stream",
     "text": [
      "Enter the shielding design goal (P) in Gy/week:  0.00002\n",
      "Enter the workload (W) in Gy/week:  450\n",
      "Enter the use factor (U):  0.25\n",
      "Enter the occupancy factor (T):  0.025\n",
      "Enter the distance (d) from the source in meters:  6\n"
     ]
    },
    {
     "name": "stdout",
     "output_type": "stream",
     "text": [
      "\n",
      "The shielding attenuation factor (B) is: 0.0003484444444444445\n",
      "The number of TVLs (n) is: 3.457866\n"
     ]
    }
   ],
   "source": [
    "P = float(input(\"Enter the shielding design goal (P) in Gy/week: \")) \n",
    "W = float(input(\"Enter the workload (W) in Gy/week: \"))\n",
    "U = float(input(\"Enter the use factor (U): \"))\n",
    "T = float(input(\"Enter the occupancy factor (T): \"))\n",
    "d = float(input(\"Enter the distance (d) from the source in meters: \"))\n",
    "B = (P * ((d+1) **2 )) / (W * U * T)\n",
    "print(f\"\\nThe shielding attenuation factor (B) is: {B}\")\n",
    "noofTVL = -math.log10(B)\n",
    "print(f\"The number of TVLs (n) is: {noofTVL:.6f}\")\n"
   ]
  },
  {
   "cell_type": "code",
   "execution_count": 9,
   "id": "a5724fec-0ffe-49b9-b5a5-628038beb28f",
   "metadata": {},
   "outputs": [
    {
     "name": "stdout",
     "output_type": "stream",
     "text": [
      "\n",
      "Endpoint Energy (MV) - TVL Table\n",
      "-------------------------------------------------------------\n",
      "| Energy (MV) | Material  | TVL1 (cm) | TVLe (cm)           |\n",
      "-------------------------------------------------------------\n",
      "|     4       | Concrete  |    35     |    30              |\n",
      "|             | Steel     |    9.9    |    9.9             |\n",
      "|             | Lead      |    5.7    |    5.7             |\n",
      "|-----------------------------------------------------------|\n",
      "|     6       | Concrete  |    37     |    33              |\n",
      "|             | Steel     |    10     |    10              |\n",
      "|             | Lead      |    5.7    |    5.7             |\n",
      "|-----------------------------------------------------------|\n",
      "|     10      | Concrete  |    41     |    37              |\n",
      "|             | Steel     |    11     |    11              |\n",
      "|             | Lead      |    5.7    |    5.7             |\n",
      "|-----------------------------------------------------------|\n",
      "|     15      | Concrete  |    44     |    41              |\n",
      "|             | Steel     |    11     |    11              |\n",
      "|             | Lead      |    5.7    |    5.7             |\n",
      "|-----------------------------------------------------------|\n",
      "|     18      | Concrete  |    45     |    43              |\n",
      "|             | Steel     |    11     |    11              |\n",
      "|             | Lead      |    5.7    |    5.7             |\n",
      "-------------------------------------------------------------\n"
     ]
    }
   ],
   "source": [
    "\n",
    "    \"\"\"Displays the TVL1 and TVLe table.\"\"\"\n",
    "    print(\"\\nEndpoint Energy (MV) - TVL Table\")\n",
    "    print(\"-------------------------------------------------------------\")\n",
    "    print(\"| Energy (MV) | Material  | TVL1 (cm) | TVLe (cm)           |\")\n",
    "    print(\"-------------------------------------------------------------\")\n",
    "    print(\"|     4       | Concrete  |    35     |    30              |\")\n",
    "    print(\"|             | Steel     |    9.9    |    9.9             |\")\n",
    "    print(\"|             | Lead      |    5.7    |    5.7             |\")\n",
    "    print(\"|-----------------------------------------------------------|\")\n",
    "    print(\"|     6       | Concrete  |    37     |    33              |\")\n",
    "    print(\"|             | Steel     |    10     |    10              |\")\n",
    "    print(\"|             | Lead      |    5.7    |    5.7             |\")\n",
    "    print(\"|-----------------------------------------------------------|\")\n",
    "    print(\"|     10      | Concrete  |    41     |    37              |\")\n",
    "    print(\"|             | Steel     |    11     |    11              |\")\n",
    "    print(\"|             | Lead      |    5.7    |    5.7             |\")\n",
    "    print(\"|-----------------------------------------------------------|\")\n",
    "    print(\"|     15      | Concrete  |    44     |    41              |\")\n",
    "    print(\"|             | Steel     |    11     |    11              |\")\n",
    "    print(\"|             | Lead      |    5.7    |    5.7             |\")\n",
    "    print(\"|-----------------------------------------------------------|\")\n",
    "    print(\"|     18      | Concrete  |    45     |    43              |\")\n",
    "    print(\"|             | Steel     |    11     |    11              |\")\n",
    "    print(\"|             | Lead      |    5.7    |    5.7             |\")\n",
    "    print(\"-------------------------------------------------------------\")\n",
    "\n",
    "\n"
   ]
  },
  {
   "cell_type": "code",
   "execution_count": 11,
   "id": "6d0017ac-953e-4944-a71d-0dda0e56d799",
   "metadata": {},
   "outputs": [
    {
     "name": "stdin",
     "output_type": "stream",
     "text": [
      "Enter the TVL1 from the table above:  37\n",
      "Enter the TVLe from the table above:  33\n"
     ]
    },
    {
     "name": "stdout",
     "output_type": "stream",
     "text": [
      "118.10959302908849\n"
     ]
    }
   ],
   "source": [
    "TVL1 = float(input(\"Enter the TVL1 from the table above: \"))\n",
    "TVLe = float(input(\"Enter the TVLe from the table above: \"))\n",
    "t_barrier=TVL1+(noofTVL-1)*TVLe\n",
    "print(t_barrier)\n"
   ]
  },
  {
   "cell_type": "code",
   "execution_count": 5,
   "id": "e73318a5-a4f1-401e-810a-423c3de65bc0",
   "metadata": {},
   "outputs": [
    {
     "name": "stdin",
     "output_type": "stream",
     "text": [
      "Enter the shielding design goal (P):  0.00002\n",
      "Enter the attenuation factor (a):  0.000189\n",
      "Enter the workload (W):  450\n",
      "Enter the occupancy factor (T):  0.2\n",
      "Enter the distance to the scatter point (d_sca):  1\n",
      "Enter the distance to the secondary point (d_sec):  5.4\n",
      "Enter the field size factor (F):  1600\n"
     ]
    },
    {
     "name": "stdout",
     "output_type": "stream",
     "text": [
      "The value of B_patient is: 0.008571428571428572\n",
      "The value of B_L is: 0.0064800000000000005\n",
      "The value of number of tvl for patient scatter is: 2.066946789630613\n",
      "The value of number of tvl for leakage scatter is: 2.1884249941294067\n"
     ]
    }
   ],
   "source": [
    "#secondary barrier\n",
    "import math \n",
    "P = float(input(\"Enter the shielding design goal (P): \"))\n",
    "a = float(input(\"Enter the attenuation factor (a): \"))\n",
    "W = float(input(\"Enter the workload (W): \"))\n",
    "T = float(input(\"Enter the occupancy factor (T): \"))\n",
    "d_sca = float(input(\"Enter the distance to the scatter point (d_sca): \"))\n",
    "d_sec = float(input(\"Enter the distance to the secondary point (d_sec): \"))\n",
    "F = float(input(\"Enter the field size factor (F): \"))\n",
    "\n",
    "B_patient = (P / (a * W * T)) * (d_sca**2) * (d_sec**2) * (400 / F)\n",
    "B_L = (P * d_sec**2) / (10**-3 * W * T)\n",
    "n2 = -math.log10(B_patient)\n",
    "n3 = -math.log10(B_L)\n",
    "print(f\"The value of B_patient is: {B_patient}\")\n",
    "print(f\"The value of B_L is: {B_L}\")\n",
    "print(f\"The value of number of tvl for patient scatter is: {n2}\")\n",
    "print(f\"The value of number of tvl for leakage scatter is: {n3}\")\n"
   ]
  },
  {
   "cell_type": "code",
   "execution_count": 1,
   "id": "4e07cd4c-d1d3-436f-9836-919ed543cb53",
   "metadata": {
    "tags": []
   },
   "outputs": [
    {
     "name": "stdout",
     "output_type": "stream",
     "text": [
      "Table B.5a—TVLs in concrete (centimeters) for patient-scattered radiation:\n",
      "\n",
      "Scatter Angle (degrees) | Co-60 | 4 MV | 6 MV | 10 MV | 15 MV | 18 MV | 20 MV | 24 MV\n",
      "--------------------------------------------------------------------------\n",
      "15                      | 22    | 30   | 34   | 39    | 42    | 44    | 46    | 49\n",
      "30                      | 21    | 25   | 26   | 28    | 31    | 32    | 33    | 36\n",
      "45                      | 20    | 22   | 23   | 25    | 26    | 27    | 27    | 29\n",
      "60                      | 19    | 21   | 21   | 22    | 23    | 23    | 24    | 24\n",
      "90                      | 15    | 17   | 17   | 18    | 18    | 19    | 19    | 19\n",
      "135                     | 13    | 14   | 15   | 15    | 15    | 15    | 15    | 16\n"
     ]
    }
   ],
   "source": [
    "#Enter the shielding design goal (P):  0.00002\n",
    "#Enter the attenuation factor (a):  0.000189\n",
    "#Enter the workload (W):  450\n",
    "#Enter the occupancy factor (T):  0.2\n",
    "#Enter the distance to the scatter point (d_sca):  1\n",
    "#Enter the distance to the secondary point (d_sec):  5.4\n",
    "#Enter the field size factor (F):  1600\n",
    "#The value of B_ps is: 0.008571428571428572\n",
    "# Table B.5a—TVLs in concrete (centimeters) for patient-scattered radiation\n",
    "print(\"Table B.5a—TVLs in concrete (centimeters) for patient-scattered radiation:\\n\")\n",
    "print(\"Scatter Angle (degrees) | Co-60 | 4 MV | 6 MV | 10 MV | 15 MV | 18 MV | 20 MV | 24 MV\")\n",
    "print(\"--------------------------------------------------------------------------\")\n",
    "print(\"15                      | 22    | 30   | 34   | 39    | 42    | 44    | 46    | 49\")\n",
    "print(\"30                      | 21    | 25   | 26   | 28    | 31    | 32    | 33    | 36\")\n",
    "print(\"45                      | 20    | 22   | 23   | 25    | 26    | 27    | 27    | 29\")\n",
    "print(\"60                      | 19    | 21   | 21   | 22    | 23    | 23    | 24    | 24\")\n",
    "print(\"90                      | 15    | 17   | 17   | 18    | 18    | 19    | 19    | 19\")\n",
    "print(\"135                     | 13    | 14   | 15   | 15    | 15    | 15    | 15    | 16\")\n"
   ]
  },
  {
   "cell_type": "code",
   "execution_count": null,
   "id": "726cf5c0-a097-4b7c-ab13-47d914cb390e",
   "metadata": {},
   "outputs": [],
   "source": []
  }
 ],
 "metadata": {
  "kernelspec": {
   "display_name": "Python 3 (ipykernel)",
   "language": "python",
   "name": "python3"
  },
  "language_info": {
   "codemirror_mode": {
    "name": "ipython",
    "version": 3
   },
   "file_extension": ".py",
   "mimetype": "text/x-python",
   "name": "python",
   "nbconvert_exporter": "python",
   "pygments_lexer": "ipython3",
   "version": "3.11.5"
  }
 },
 "nbformat": 4,
 "nbformat_minor": 5
}
