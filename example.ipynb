{
 "cells": [
  {
   "cell_type": "code",
   "execution_count": 14,
   "id": "db5fff3d-c24e-45af-80cc-c3a9a90ae16d",
   "metadata": {},
   "outputs": [
    {
     "name": "stdin",
     "output_type": "stream",
     "text": [
      "Enter the number of patients:  30\n",
      "Enter the number of treatment days/week:  5\n",
      "Enter the value:  3\n",
      "Enter the unit (Gy or mR):  Gy\n"
     ]
    },
    {
     "name": "stdout",
     "output_type": "stream",
     "text": [
      "The dose per patient is 3.0 Gy.\n",
      "The workload for the linac is 450.0 Gy/wk\n"
     ]
    }
   ],
   "source": [
    "#these are my considerations for this project\n",
    "#assumptions involve that this facility not provide IMRT treatment\n",
    "#the linac is elekta synergy\n",
    "#number of patients treated per day=30\n",
    "#number of treatment days=5\n",
    "#dose per patient= 3 Gy\n",
    "\n",
    "import math\n",
    "n = float(input(\"Enter the number of patients: \"))\n",
    "d= float(input(\"Enter the number of treatment days/week: \"))\n",
    "\n",
    "def dose():\n",
    "    \n",
    "    value = float(input(\"Enter the value: \")) #enter just the number\n",
    "    unit = input(\"Enter the unit (Gy or mR): \").strip()  #enter the units(Gy or mR).\n",
    "    #the program will convert the units in Gy if you enter mR\n",
    "\n",
    "    if unit == \"Gy\":\n",
    "        # Value is already in Gray\n",
    "        print(f\"The dose per patient is {value} Gy.\")\n",
    "        w=n*d*value\n",
    "        print(f\"The workload for the linac is {w} Gy/wk\")\n",
    "    elif unit == \"mR\":\n",
    "        # Conversion logic: 1 mR = 8.77 x 10^-6 Gy\n",
    "        converted_value = value * 0.00877 / 1000\n",
    "        print(f\"{value} mR is equivalent to {converted_value:.6f} Gy.\")\n",
    "        w=n*d*converted_value\n",
    "        print(f\"The workload for the linac is {w} Gy/wk\")\n",
    "        print\n",
    "    else:\n",
    "        print(\"Invalid unit entered. Please use 'Gy' or 'mR'.\")\n",
    "        \n",
    "dose()\n",
    "#at this point your have the workload\n",
    "#if you enter the above mentioned values your answer should be 450.0 Gy/wk"
   ]
  },
  {
   "cell_type": "code",
   "execution_count": 15,
   "id": "ff1dea63-4f74-4101-8120-48d62cf492c2",
   "metadata": {},
   "outputs": [
    {
     "name": "stdout",
     "output_type": "stream",
     "text": [
      "\n",
      "Occupancy Factor (T):\n",
      "------------------------------------------------------------------\n",
      "| Location                                                            | Factor (T) |\n",
      "------------------------------------------------------------------\n",
      "| Full occupancy areas (e.g., administrative offices,                |     1      |\n",
      "| treatment planning areas, treatment control rooms, nurse           |            |\n",
      "| stations, attended waiting rooms, occupied space in nearby         |            |\n",
      "| building)                                                          |            |\n",
      "|--------------------------------------------------------------------|------------|\n",
      "| Adjacent treatment room, patient examination room adjacent         |     1/2    |\n",
      "| to shielded vault                                                  |            |\n",
      "|--------------------------------------------------------------------|------------|\n",
      "| Corridors, employee lounges, staff rest rooms                      |     1/5    |\n",
      "|--------------------------------------------------------------------|------------|\n",
      "| Treatment vault doors                                              |     1/8    |\n",
      "|--------------------------------------------------------------------|------------|\n",
      "| Public toilets, unattended vending rooms, storage areas,           |     1/20   |\n",
      "| outdoor areas with seating, unattended waiting rooms, patient      |            |\n",
      "| holding areas, attics, janitors’ closets                           |            |\n",
      "|--------------------------------------------------------------------|------------|\n",
      "| Outdoor areas with transient pedestrian or vehicular traffic,      |     1/40   |\n",
      "| unattended parking lots, vehicular drop-off areas, stairways,      |            |\n",
      "| unattended elevators                                               |            |\n",
      "------------------------------------------------------------------\n",
      "\n",
      "Use Factor (U) for primary barrier:\n",
      "-------------------------------\n",
      "| Gantry angle | Factor (U) |\n",
      "|--------------------------|------------|\n",
      "| 0,90,270,180 degree             | 0.25       |\n",
      "-------------------------------\n",
      "\n",
      "Permissible limits:\n",
      "-----------------------------------------------------------------------------------\n",
      "| Category              | Details                                                |\n",
      "-----------------------------------------------------------------------------------\n",
      "| Controlled Areas      |                                                       |\n",
      "|                       | E ≤ 50 mSv/year, cumulative E ≤ 10 mSv × age (in yrs) |\n",
      "|                       | Declared pregnant worker: 0.5 mSv/month ≈ 5 mSv/year  |\n",
      "|                       | Minors (occupational workers): 10% of adult limit     |\n",
      "|                       | → Limit based on 5 mSv/year = 0.1 mSv/week            |\n",
      "|                       | ALARA (As Low As Reasonably Achievable)               |\n",
      "|                       | Special considerations for pregnant workers and minors|\n",
      "-----------------------------------------------------------------------------------\n",
      "| Uncontrolled Areas    |                                                       |\n",
      "|                       | E < 1 mSv/year = 0.02 mSv/week                        |\n",
      "-----------------------------------------------------------------------------------\n"
     ]
    }
   ],
   "source": [
    "#this portion of the code only present you with what values you can put according to NCRP 151\n",
    "\n",
    "print(\"\\nOccupancy Factor (T):\")\n",
    "print(\"------------------------------------------------------------------\")\n",
    "print(\"| Location                                                            | Factor (T) |\")\n",
    "print(\"------------------------------------------------------------------\")\n",
    "print(\"| Full occupancy areas (e.g., administrative offices,                |     1      |\")\n",
    "print(\"| treatment planning areas, treatment control rooms, nurse           |            |\")\n",
    "print(\"| stations, attended waiting rooms, occupied space in nearby         |            |\")\n",
    "print(\"| building)                                                          |            |\")\n",
    "print(\"|--------------------------------------------------------------------|------------|\")\n",
    "print(\"| Adjacent treatment room, patient examination room adjacent         |     1/2    |\")\n",
    "print(\"| to shielded vault                                                  |            |\")\n",
    "print(\"|--------------------------------------------------------------------|------------|\")\n",
    "print(\"| Corridors, employee lounges, staff rest rooms                      |     1/5    |\")\n",
    "print(\"|--------------------------------------------------------------------|------------|\")\n",
    "print(\"| Treatment vault doors                                              |     1/8    |\")\n",
    "print(\"|--------------------------------------------------------------------|------------|\")\n",
    "print(\"| Public toilets, unattended vending rooms, storage areas,           |     1/20   |\")\n",
    "print(\"| outdoor areas with seating, unattended waiting rooms, patient      |            |\")\n",
    "print(\"| holding areas, attics, janitors’ closets                           |            |\")\n",
    "print(\"|--------------------------------------------------------------------|------------|\")\n",
    "print(\"| Outdoor areas with transient pedestrian or vehicular traffic,      |     1/40   |\")\n",
    "print(\"| unattended parking lots, vehicular drop-off areas, stairways,      |            |\")\n",
    "print(\"| unattended elevators                                               |            |\")\n",
    "print(\"------------------------------------------------------------------\")\n",
    "\n",
    "\n",
    "\n",
    "\n",
    "     \n",
    "print(\"\\nUse Factor (U) for primary barrier:\")\n",
    "print(\"-------------------------------\")\n",
    "print(\"| Gantry angle | Factor (U) |\")\n",
    "print(\"|--------------------------|------------|\")\n",
    "print(\"| 0,90,270,180 degree             | 0.25       |\")\n",
    "print(\"-------------------------------\")\n",
    "\n",
    "        \n",
    "        \n",
    "        \n",
    "print(\"\\nPermissible limits:\")\n",
    "print(\"-----------------------------------------------------------------------------------\")\n",
    "print(\"| Category              | Details                                                |\")\n",
    "print(\"-----------------------------------------------------------------------------------\")\n",
    "print(\"| Controlled Areas      |                                                       |\")\n",
    "print(\"|                       | E ≤ 50 mSv/year, cumulative E ≤ 10 mSv × age (in yrs) |\")\n",
    "print(\"|                       | Declared pregnant worker: 0.5 mSv/month ≈ 5 mSv/year  |\")\n",
    "print(\"|                       | Minors (occupational workers): 10% of adult limit     |\")\n",
    "print(\"|                       | → Limit based on 5 mSv/year = 0.1 mSv/week            |\")\n",
    "print(\"|                       | ALARA (As Low As Reasonably Achievable)               |\")\n",
    "print(\"|                       | Special considerations for pregnant workers and minors|\")\n",
    "print(\"-----------------------------------------------------------------------------------\")\n",
    "print(\"| Uncontrolled Areas    |                                                       |\")\n",
    "print(\"|                       | E < 1 mSv/year = 0.02 mSv/week                        |\")\n",
    "print(\"-----------------------------------------------------------------------------------\")\n",
    "\n",
    "\n"
   ]
  },
  {
   "cell_type": "code",
   "execution_count": 16,
   "id": "e722698b-72a8-4972-b34e-3bb36ae993ed",
   "metadata": {},
   "outputs": [
    {
     "name": "stdin",
     "output_type": "stream",
     "text": [
      "Enter the shielding design goal (P) in Gy/week:  0.00002\n",
      "Enter the workload (W) in Gy/week:  450\n",
      "Enter the use factor (U):  0.25\n",
      "Enter the occupancy factor (T):  0.025\n",
      "Enter the distance (d) from the source in meters:  5.5\n"
     ]
    },
    {
     "name": "stdout",
     "output_type": "stream",
     "text": [
      "\n",
      "The shielding attenuation factor (B) is: 0.00030044444444444443\n",
      "The number of TVLs (n) is: 3.522\n"
     ]
    }
   ],
   "source": [
    "###################************Wall1******############################\n",
    "#assuming there is a parking lot which is mostly abandoned behind wall1 and wall3 which are primary walls\n",
    "#so P= 0.020mSv/week #enter P= 0.00002 \n",
    "#enter abover calculated workload\n",
    "#enter U=0.25 (primary barrier so quater the time gantry is facing that wall\n",
    "#enter T= 0.025\n",
    "#assuming d=5.5\n",
    "\n",
    "###################************Wall2******############################\n",
    "#assuming there is control consol behind wall 2, which is a controlled area \n",
    "#P=0.0001Sv/week so enter =0.0001\n",
    "#enter U= 0.25\n",
    "#enter T=1\n",
    "#enter d=6\n",
    "\n",
    "###################******************############################\n",
    "\n",
    "\n",
    "\n",
    "\n",
    "P = float(input(\"Enter the shielding design goal (P) in Gy/week: \"))\n",
    "W = float(input(\"Enter the workload (W) in Gy/week: \"))\n",
    "U = float(input(\"Enter the use factor (U): \"))\n",
    "T = float(input(\"Enter the occupancy factor (T): \"))\n",
    "d = float(input(\"Enter the distance (d) from the source in meters: \"))\n",
    "B = (P * ((d+1) **2 )) / (W * U * T)\n",
    "print(f\"\\nThe shielding attenuation factor (B) is: {B}\")\n",
    "noofTVL = -math.log10(B)\n",
    "print(f\"The number of TVLs (n) is: {noofTVL:.3f}\")\n"
   ]
  },
  {
   "cell_type": "code",
   "execution_count": 17,
   "id": "a5724fec-0ffe-49b9-b5a5-628038beb28f",
   "metadata": {},
   "outputs": [
    {
     "name": "stdout",
     "output_type": "stream",
     "text": [
      "\n",
      "Endpoint Energy (MV) - TVL Table\n",
      "-------------------------------------------------------------\n",
      "| Energy (MV) | Material  | TVL1 (cm) | TVLe (cm)           |\n",
      "-------------------------------------------------------------\n",
      "|     4       | Concrete  |    35     |    30              |\n",
      "|             | Steel     |    9.9    |    9.9             |\n",
      "|             | Lead      |    5.7    |    5.7             |\n",
      "|-----------------------------------------------------------|\n",
      "|     6       | Concrete  |    37     |    33              |\n",
      "|             | Steel     |    10     |    10              |\n",
      "|             | Lead      |    5.7    |    5.7             |\n",
      "|-----------------------------------------------------------|\n",
      "|     10      | Concrete  |    41     |    37              |\n",
      "|             | Steel     |    11     |    11              |\n",
      "|             | Lead      |    5.7    |    5.7             |\n",
      "|-----------------------------------------------------------|\n",
      "|     15      | Concrete  |    44     |    41              |\n",
      "|             | Steel     |    11     |    11              |\n",
      "|             | Lead      |    5.7    |    5.7             |\n",
      "|-----------------------------------------------------------|\n",
      "|     18      | Concrete  |    45     |    43              |\n",
      "|             | Steel     |    11     |    11              |\n",
      "|             | Lead      |    5.7    |    5.7             |\n",
      "-------------------------------------------------------------\n"
     ]
    }
   ],
   "source": [
    "\n",
    "    \"\"\"Displays the TVL1 and TVLe table.\"\"\"\n",
    "    print(\"\\nEndpoint Energy (MV) - TVL Table\")\n",
    "    print(\"-------------------------------------------------------------\")\n",
    "    print(\"| Energy (MV) | Material  | TVL1 (cm) | TVLe (cm)           |\")\n",
    "    print(\"-------------------------------------------------------------\")\n",
    "    print(\"|     4       | Concrete  |    35     |    30              |\")\n",
    "    print(\"|             | Steel     |    9.9    |    9.9             |\")\n",
    "    print(\"|             | Lead      |    5.7    |    5.7             |\")\n",
    "    print(\"|-----------------------------------------------------------|\")\n",
    "    print(\"|     6       | Concrete  |    37     |    33              |\")\n",
    "    print(\"|             | Steel     |    10     |    10              |\")\n",
    "    print(\"|             | Lead      |    5.7    |    5.7             |\")\n",
    "    print(\"|-----------------------------------------------------------|\")\n",
    "    print(\"|     10      | Concrete  |    41     |    37              |\")\n",
    "    print(\"|             | Steel     |    11     |    11              |\")\n",
    "    print(\"|             | Lead      |    5.7    |    5.7             |\")\n",
    "    print(\"|-----------------------------------------------------------|\")\n",
    "    print(\"|     15      | Concrete  |    44     |    41              |\")\n",
    "    print(\"|             | Steel     |    11     |    11              |\")\n",
    "    print(\"|             | Lead      |    5.7    |    5.7             |\")\n",
    "    print(\"|-----------------------------------------------------------|\")\n",
    "    print(\"|     18      | Concrete  |    45     |    43              |\")\n",
    "    print(\"|             | Steel     |    11     |    11              |\")\n",
    "    print(\"|             | Lead      |    5.7    |    5.7             |\")\n",
    "    print(\"-------------------------------------------------------------\")\n",
    "\n",
    "\n"
   ]
  },
  {
   "cell_type": "code",
   "execution_count": 18,
   "id": "6d0017ac-953e-4944-a71d-0dda0e56d799",
   "metadata": {},
   "outputs": [
    {
     "name": "stdin",
     "output_type": "stream",
     "text": [
      "Enter the TVL1 from the table above:  44\n",
      "Enter the TVLe from the table above:  41\n"
     ]
    },
    {
     "name": "stdout",
     "output_type": "stream",
     "text": [
      "the thickness of Wall1 barrier should be 147.412cm\n"
     ]
    }
   ],
   "source": [
    "#assuming we only have concrete's budget\n",
    "#puting the value from the table above\n",
    "TVL1 = float(input(\"Enter the TVL1 from the table above: \"))\n",
    "TVLe = float(input(\"Enter the TVLe from the table above: \"))\n",
    "t_barrier=TVL1+(noofTVL-1)*TVLe\n",
    "print(f\"the thickness of Wall1 barrier should be {t_barrier:.3f}cm\")\n",
    "\n",
    "#assuming we have 6MV energy as well \n",
    "#we can put values for 6MV concrete and check if this much sheilding for 15 MV will be appropriate for 6MV or not\n"
   ]
  },
  {
   "cell_type": "code",
   "execution_count": null,
   "id": "e73318a5-a4f1-401e-810a-423c3de65bc0",
   "metadata": {},
   "outputs": [],
   "source": []
  }
 ],
 "metadata": {
  "kernelspec": {
   "display_name": "Python 3 (ipykernel)",
   "language": "python",
   "name": "python3"
  },
  "language_info": {
   "codemirror_mode": {
    "name": "ipython",
    "version": 3
   },
   "file_extension": ".py",
   "mimetype": "text/x-python",
   "name": "python",
   "nbconvert_exporter": "python",
   "pygments_lexer": "ipython3",
   "version": "3.11.5"
  }
 },
 "nbformat": 4,
 "nbformat_minor": 5
}
